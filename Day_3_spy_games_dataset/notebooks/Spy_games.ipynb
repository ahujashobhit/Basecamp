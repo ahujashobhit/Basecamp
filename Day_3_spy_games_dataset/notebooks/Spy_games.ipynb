{
 "cells": [
  {
   "cell_type": "markdown",
   "metadata": {},
   "source": [
    "## Problem Statement\n",
    "Hello lieutenant!\n",
    "It's with an emergency that our agency wishes to use the skills that you learned in 'python intermediate' module.\n",
    "Your mission if you choose to accept it, would be to help us decipher a message that we received from our intel. We have multiple text files that need to be read and have certain operations performed to get our final message.\n",
    "\n",
    "Good luck. The fate of humanity lies in your hands.\n",
    "\n",
    "## Why solve this project?\n",
    "After completing this project, you will have a better understanding of solving logical problems using python. In this project, you will be applying the following concepts:\n",
    "\n",
    "- String operations \n",
    "- Conditional statement and loops\n",
    "- File I/O\n",
    "- Functions"
   ]
  },
  {
   "cell_type": "markdown",
   "metadata": {},
   "source": [
    "### Task 1\n",
    "\n",
    "**The first thing you have to do is to write a function that reads the contents of the files that we have.**\n",
    "\n",
    "#### Instructions:\n",
    "\n",
    "* The path for file should be stored in a variable `file_path`\n",
    "* Write a function `\"read_file()\"` that :\n",
    "    \n",
    "     * Takes `'path'` as a parameter.\n",
    "\n",
    "     * Opens the file associated with the `'path'` in the read-only mode `('r')` and store it in a variable  `file`.\n",
    "\n",
    "     * Reads the content(first line) of the file and stores it in a variable called `'sentence'`\n",
    "\n",
    "     * Closes the file\n",
    "\n",
    "     * Returns `'sentence'` \n",
    "\n",
    "\n",
    "Parameters :\n",
    "\n",
    "| parameter | dtype  | Argument Type | default value | description                   |\n",
    "|-----------|--------|---------------|---------------|-------------------------------|\n",
    "| path      | string | compulsory    |               | path of the file location |\n",
    "\n",
    "Returns:\n",
    "\n",
    "| returns  | dtype            | description                                |\n",
    "|----------|------------------|--------------------------------------------|\n",
    "| sentence | string | Sentence in the file |\n",
    "\n",
    "\n",
    "\n",
    "* Call the function `\"read_file()\"` with `'file_path'` as input parameter and store the result in a variable called `'sample_message'`"
   ]
  },
  {
   "cell_type": "code",
   "execution_count": 72,
   "metadata": {},
   "outputs": [],
   "source": [
    "import os\n",
    "dir_path = '/home/sahuja4/Work/Learning/git_repos/Basecamp/Day_3_spy_games_dataset/data'"
   ]
  },
  {
   "cell_type": "code",
   "execution_count": 53,
   "metadata": {},
   "outputs": [],
   "source": [
    "def read_file(path):\n",
    "    '''Reads a file and return the text output\n",
    "    \n",
    "    Parameters:\n",
    "    path (str): file path to read\n",
    "    \n",
    "    Returns:\n",
    "    string: file content\n",
    "    '''\n",
    "    \n",
    "    with open(path, 'r') as file:\n",
    "        sentence = file.readlines()[0]\n",
    "    \n",
    "    return sentence\n"
   ]
  },
  {
   "cell_type": "code",
   "execution_count": 54,
   "metadata": {},
   "outputs": [
    {
     "name": "stdout",
     "output_type": "stream",
     "text": [
      "This is a sample message.\n"
     ]
    }
   ],
   "source": [
    "file_path = os.path.join(dir_path, 'Sample.txt')\n",
    "if(os.path.exists(file_path)):\n",
    "    sample_message = read_file(file_path)\n",
    "    print(sample_message)"
   ]
  },
  {
   "cell_type": "markdown",
   "metadata": {},
   "source": [
    "### Task 2\n",
    "\n",
    "**In this task, you have to make use of messages of two different files. \n",
    "In the two files, we have one number each.\n",
    "You have to apply a certain operation to extract our message.**\n",
    "\n",
    "#### Instructions:\n",
    "* Path for the two files that you will require for this task should be stored in variables `file_path_1` and `file_path_2`\n",
    "\n",
    "* Call the function `read_file()` written in the previous task for `file_path_1` & `file_path_2` and store their message sentences in variables `message_1` and `message_2` respectively.\n",
    "\n",
    "\n",
    "* Print `message_1` and `message_2` to see what they contain.\n",
    "\n",
    "\n",
    "* Write a function `fuse_msg()` that :\n",
    "    \n",
    "    * Takes `message_a` and `message_b` as parameters\n",
    "\n",
    "    * Implements integer(floor) division of `message_b` over `message_a`(Don't forget to make messages as int before applying floor division) and   stores the quotient in a variable called `quotient`\n",
    "\n",
    "    * Returns `quotient` in string format. \n",
    "    \n",
    "    [Note you can convert any variable 'a' to string using str(a)]\n",
    "\n",
    "\n",
    "\n",
    "Parameters :\n",
    "\n",
    "| parameter | dtype  | Argument Type | default value | description                   |\n",
    "|-----------|--------|---------------|---------------|-------------------------------|\n",
    "| message_a      | string | compulsory    |               | message from the first text file |\n",
    "| message_b      | string | compulsory    |               | message from the second text file |\n",
    "\n",
    "\n",
    "Returns:\n",
    "\n",
    "| returns  | dtype            | description                                |\n",
    "|----------|------------------|--------------------------------------------|\n",
    "| quotient | string | quotient of the integer division |\n",
    "\n",
    "\n",
    "\n",
    "* Call the function `fuse_msg()` with `message_1` & `message_2` and store the result of it in a variable called `secret_msg_1`\n",
    "\n",
    "\n"
   ]
  },
  {
   "cell_type": "code",
   "execution_count": 55,
   "metadata": {},
   "outputs": [
    {
     "name": "stdout",
     "output_type": "stream",
     "text": [
      "Message 1: 2222\n",
      "\n",
      "Message 2: 2477\n",
      "\n"
     ]
    }
   ],
   "source": [
    "file_path_1 = os.path.join(dir_path, 'M1.txt')\n",
    "file_path_2 = os.path.join(dir_path, 'M2.txt')\n",
    "if(os.path.exists(file_path_1)):\n",
    "    message_1 = read_file(file_path_1)\n",
    "if(os.path.exists(file_path_2)):\n",
    "    message_2 = read_file(file_path_2)\n",
    "\n",
    "print(f'Message 1: {message_1}')\n",
    "print(f'Message 2: {message_2}')"
   ]
  },
  {
   "cell_type": "code",
   "execution_count": 57,
   "metadata": {},
   "outputs": [],
   "source": [
    "def fuse_msg(message_a, message_b):\n",
    "    '''\n",
    "    Takes Message a and b. And return Floor Division Quotient as string.\n",
    "    \n",
    "    Parameters:\n",
    "    message_a (str): first message\n",
    "    message_b (str): second message\n",
    "    \n",
    "    Returns:\n",
    "    string: quotient\n",
    "    '''\n",
    "    message_a_int = int(message_a)\n",
    "    message_b_int = int(message_b)\n",
    "    \n",
    "    quotient = message_b_int//message_a_int\n",
    "\n",
    "    return str(quotient)"
   ]
  },
  {
   "cell_type": "code",
   "execution_count": 73,
   "metadata": {},
   "outputs": [
    {
     "name": "stdout",
     "output_type": "stream",
     "text": [
      "1\n"
     ]
    }
   ],
   "source": [
    "secret_msg_1 = fuse_msg(message_1, message_2)\n",
    "print(secret_msg_1)"
   ]
  },
  {
   "cell_type": "markdown",
   "metadata": {},
   "source": [
    "### Task 3\n",
    "\n",
    "**In this task, you have to substitute the message of the file for a secret message.**\n",
    "\n",
    "#### Instructions:\n",
    "* Path for the file that you will require for this task should be stored in variables `file_path_3`\n",
    "\n",
    "* Call the function `read_file()` for `file_path_3` and store its message sentences in variables `message_3`\n",
    "\n",
    "\n",
    "* Print `message_3` to see what it contains.\n",
    "\n",
    "\n",
    "* Write a function `substitute_msg()` that :\n",
    "\n",
    "    - Takes `message_c` as a parameter\n",
    "\n",
    "    - Creates a new variable `'sub'` and in it stores  \n",
    "\n",
    "                  'Army General' if message_c is 'Red'\n",
    "                  'Data Scientist' if message_c is 'Green'\n",
    "                  'Marine Biologist' if message_c is 'Blue'\n",
    "\n",
    "    - Returns `'sub'`          \n",
    "\n",
    "Parameters :\n",
    "\n",
    "| parameter | dtype  | Argument Type | default value | description                   |\n",
    "|-----------|--------|---------------|---------------|-------------------------------|\n",
    "| message_c      | string | compulsory    |               | message from the text file |\n",
    "\n",
    "\n",
    "Returns:\n",
    "\n",
    "| returns  | dtype            | description                                |\n",
    "|----------|------------------|--------------------------------------------|\n",
    "| sub | string | word according to the condition given |\n",
    "\n",
    "\n",
    "\n",
    "* Call the function `\"substitute_msg()\"` with `'message_3'` and store the result of it in a variable called `'secret_msg_2'`\n",
    "\n",
    "\n"
   ]
  },
  {
   "cell_type": "code",
   "execution_count": 59,
   "metadata": {},
   "outputs": [
    {
     "name": "stdout",
     "output_type": "stream",
     "text": [
      "Green\n"
     ]
    }
   ],
   "source": [
    "file_path_3 = os.path.join(dir_path, 'M3.txt')\n",
    "if(os.path.exists(file_path_3)):\n",
    "    message_3 = read_file(file_path_3)\n",
    "    print(message_3)"
   ]
  },
  {
   "cell_type": "code",
   "execution_count": 60,
   "metadata": {},
   "outputs": [],
   "source": [
    "def substitute_msg(message_c):\n",
    "    mapping = {\n",
    "        'Red': 'Army General',\n",
    "        'Green': 'Data Scientist',\n",
    "        'Blue': 'Marine Biologist'\n",
    "    }\n",
    "    if isinstance(message_c, str) == False:\n",
    "        sub = 'Unknown Message Type'\n",
    "    elif message_c in mapping.keys():\n",
    "        sub = mapping[message_c]\n",
    "    else:\n",
    "        sub = 'Unable to decode'\n",
    "    return sub\n",
    "    "
   ]
  },
  {
   "cell_type": "code",
   "execution_count": 74,
   "metadata": {},
   "outputs": [
    {
     "name": "stdout",
     "output_type": "stream",
     "text": [
      "Data Scientist\n"
     ]
    }
   ],
   "source": [
    "secret_msg_2 = substitute_msg(message_3)\n",
    "print(secret_msg_2)"
   ]
  },
  {
   "cell_type": "markdown",
   "metadata": {},
   "source": [
    "### Task 4\n",
    "\n",
    "**In this task, you have to make use of messages from two different files.\n",
    "You have to compare the two messages and take only those words that appear in first message but not in second message.**\n",
    "\n",
    "\n",
    "## Instructions:\n",
    "\n",
    "* Path for the two files that you will require for this task should be stored in variables `file_path_4` and `file_path_5`\n",
    "\n",
    "* Call the function `read_file()` for `file_path_4` & `file_path_5` and store their message sentences in variables `message_4` and `message_5` respectively\n",
    "\n",
    "\n",
    "* Print `message_4` and `message_5` to see what they contain.\n",
    "\n",
    "\n",
    "* Write a function `compare_msg()` that :\n",
    "\n",
    "    - Takes `message_d` and `message_e` as parameters\n",
    "\n",
    "   - Breaks down the sentences in `message_d` & `message_e` into words using `split()` function and stores them in `a_list` & `b_list`  respectively\n",
    "\n",
    "    - Stores all the words that are there in `a_list` but not in `b_list` in a new list called `c_list` \n",
    "\n",
    "    - Combines the words of `c_list` back to a sentence using `join()` and stores it in a variable called `final_msg` and returns it \n",
    "\n",
    "***\n",
    "\n",
    "      Example of join function :\n",
    "\n",
    "~~~python\n",
    "Word_List=['I', 'love', 'data']\n",
    "Sentence= \" \".join(Word_List)\n",
    "print('Sentence=', Sentence)\n",
    "~~~\n",
    "\n",
    "**Output**\n",
    "\n",
    "~~~python\n",
    "'Sentence= I love data'\n",
    "~~~       \n",
    "   \n",
    "                \n",
    "***                             \n",
    "Parameters :\n",
    "\n",
    "| parameter | dtype  | Argument Type | default value | description                   |\n",
    "|-----------|--------|---------------|---------------|-------------------------------|\n",
    "| message_d      | string | compulsory    |               | message from the first text file |\n",
    "| message_e      | string | compulsory    |               | message from the second text file |\n",
    "\n",
    "\n",
    "Returns:\n",
    "\n",
    "| returns  | dtype            | description                                |\n",
    "|----------|------------------|--------------------------------------------|\n",
    "| final_msg | string | Sentence after applying all the above operations |\n",
    "\n",
    "\n",
    "* Call the function `\"compare_msg()\"` with `'message_4'` & `'message_5'` and store the result of it in a variable called `'secret_msg_3'`\n",
    "\n",
    "\n"
   ]
  },
  {
   "cell_type": "code",
   "execution_count": 62,
   "metadata": {},
   "outputs": [
    {
     "name": "stdout",
     "output_type": "stream",
     "text": [
      "Message 4: I hope you are good now\n",
      "Message 5: I hope good things happen in your life.\n"
     ]
    }
   ],
   "source": [
    "file_path_4 = os.path.join(dir_path, 'M4.txt')\n",
    "file_path_5 = os.path.join(dir_path, 'M5.txt')\n",
    "if(os.path.exists(file_path_4)):\n",
    "    message_4 = read_file(file_path_4)\n",
    "if(os.path.exists(file_path_5)):\n",
    "    message_5 = read_file(file_path_5)\n",
    "\n",
    "print(f'Message 4: {message_4}')\n",
    "print(f'Message 5: {message_5}')"
   ]
  },
  {
   "cell_type": "code",
   "execution_count": 63,
   "metadata": {},
   "outputs": [],
   "source": [
    "def compare_msg(message_d, message_e):\n",
    "    a_list = message_d.split()\n",
    "    b_list = message_e.split()\n",
    "    c_list = [w for w in a_list if w not in b_list]\n",
    "    final_msg = \" \".join(c_list)\n",
    "    return final_msg"
   ]
  },
  {
   "cell_type": "code",
   "execution_count": 75,
   "metadata": {},
   "outputs": [
    {
     "name": "stdout",
     "output_type": "stream",
     "text": [
      "you are now\n"
     ]
    }
   ],
   "source": [
    "secret_msg_3 = compare_msg(message_4, message_5)\n",
    "print(secret_msg_3)"
   ]
  },
  {
   "cell_type": "markdown",
   "metadata": {},
   "source": [
    "## Task 5\n",
    "\n",
    "**In this task, you have to extract only those words from the message in the file that are of even length.**\n",
    "\n",
    "#### Instructions:\n",
    "\n",
    "* Path for the file that you will require for this task should be stored in variables `file_path_6`\n",
    "\n",
    "* Call the function `read_file()` for `file_path_6` and store its message sentence in variables `message_6`\n",
    "\n",
    "* Print `message_6` to see what it contains.\n",
    "\n",
    "\n",
    "* Write a function `extract_msg()` that :\n",
    "\n",
    "    - Takes `message_f` as a parameter\n",
    "\n",
    "    - Breaks down the sentence in `message_f` into words and stores them in `a_list`\n",
    "\n",
    "    - Creates a lambda function called `even_word` with the condition that will return true if length of x (lambda function variable) is even \n",
    "\n",
    "    - Implements `filter()` function with function parameter as `even_word` and sequence parameter as `a_list` and stores the result of it in a variable called `b_list`\n",
    "\n",
    "    - Combines the words of `b_list` back to a sentence and stores it in a variable called `final_msg` and returns it \n",
    "\n",
    "\n",
    "Parameters :\n",
    "\n",
    "| parameter | dtype  | Argument Type | default value | description                   |\n",
    "|-----------|--------|---------------|---------------|-------------------------------|\n",
    "| message_f      | string | compulsory    |               | message from the text file |\n",
    "\n",
    "\n",
    "Returns:\n",
    "\n",
    "| returns  | dtype            | description                                |\n",
    "|----------|------------------|--------------------------------------------|\n",
    "| final_msg | string | Sentence after applying all the above operations |\n",
    "\n",
    "\n",
    "\n",
    "* Call the function `\"extract_msg()\"` with `'message_6'` and store the result of it in a variable called `'secret_msg_4'`\n",
    "\n",
    "\n"
   ]
  },
  {
   "cell_type": "code",
   "execution_count": 65,
   "metadata": {},
   "outputs": [
    {
     "name": "stdout",
     "output_type": "stream",
     "text": [
      "Message 6: The man was one step closer towards his quest to become a spy\n"
     ]
    }
   ],
   "source": [
    "file_path_6 = os.path.join(dir_path, 'M6.txt')\n",
    "if(os.path.exists(file_path_6)):\n",
    "    message_6 = read_file(file_path_6)\n",
    "\n",
    "print(f'Message 6: {message_6}')"
   ]
  },
  {
   "cell_type": "code",
   "execution_count": 66,
   "metadata": {},
   "outputs": [],
   "source": [
    "def extract_msg(message_f):\n",
    "    a_list = message_f.split()\n",
    "    even_word = lambda w : len(w)%2 == 0\n",
    "    b_list = list(filter(even_word, a_list))\n",
    "    final_msg = \" \".join(b_list)\n",
    "    return final_msg"
   ]
  },
  {
   "cell_type": "code",
   "execution_count": 76,
   "metadata": {},
   "outputs": [
    {
     "name": "stdout",
     "output_type": "stream",
     "text": [
      "step closer to become\n"
     ]
    }
   ],
   "source": [
    "secret_msg_4 = extract_msg(message_6)\n",
    "print(secret_msg_4)"
   ]
  },
  {
   "cell_type": "markdown",
   "metadata": {},
   "source": [
    "## Task 6\n",
    "\n",
    "**Congrats lieutenant, you have successfully deciphered all the message bits that we received.\n",
    "In this final task, we will combine all the message bits into a single message and write it in a file.**\n",
    "\n",
    "## Instructions:\n",
    "\n",
    "* The message parts that you deciphered have been provided to you in the order that they have to be read, in a list called `message_parts`. \n",
    "\n",
    "\n",
    "* Combine the contents of `message_parts` into a single sentence and store it in a variable called `secret_msg` \n",
    "\n",
    "\n",
    "* Write a function `write_file()` that :\n",
    "    \n",
    "    - Takes `secret_msg` and `path `as  parameters\n",
    "\n",
    "    - Opens the file mentioned in the `path` in `a+` mode\n",
    "\n",
    "    - Writes the content of the `secret_msg` in the above opened file\n",
    "\n",
    "    - Closes the file             \n",
    "\n",
    "Parameters :\n",
    "\n",
    "| parameter | dtype  | Argument Type | default value | description                   |\n",
    "|-----------|--------|---------------|---------------|-------------------------------|\n",
    "| secret_msg      | string | compulsory    |               | message from the text file |\n",
    "| path      | string | compulsory    |               | path pointing towards the file |\n",
    "\n",
    "\n",
    "Returns:\n",
    "\n",
    "The function has no return parameters\n",
    "\n",
    "\n",
    "\n",
    "* Call the function `\"write_file()\"` with `'secret_msg'` and `'final_path'` \n",
    "\n",
    "#### `(final_path= os.getcwd() + '/secret_message.txt')`\n",
    "\n",
    "* Print the content of the `'secret_msg'` so you can also see the message\n",
    "\n",
    "\n"
   ]
  },
  {
   "cell_type": "code",
   "execution_count": 82,
   "metadata": {},
   "outputs": [
    {
     "name": "stdout",
     "output_type": "stream",
     "text": [
      "you are now 1 step closer to become Data Scientist\n"
     ]
    }
   ],
   "source": [
    "message_parts = []\n",
    "message_parts.append(secret_msg_3)\n",
    "message_parts.append(secret_msg_1)\n",
    "message_parts.append(secret_msg_4)\n",
    "message_parts.append(secret_msg_2)\n",
    "secret_msg = \" \".join(message_parts)\n",
    "print(secret_msg)"
   ]
  },
  {
   "cell_type": "code",
   "execution_count": 88,
   "metadata": {},
   "outputs": [],
   "source": [
    "def write_file(secret_msg, path):\n",
    "    with open(path, 'a+') as file:\n",
    "        file.write(secret_msg)"
   ]
  },
  {
   "cell_type": "code",
   "execution_count": 89,
   "metadata": {},
   "outputs": [],
   "source": [
    "final_path = os.getcwd() + '/secret_message.txt'\n",
    "write_file(secret_msg ,final_path)"
   ]
  },
  {
   "cell_type": "code",
   "execution_count": null,
   "metadata": {},
   "outputs": [],
   "source": []
  }
 ],
 "metadata": {
  "kernelspec": {
   "display_name": "Python 3",
   "language": "python",
   "name": "python3"
  },
  "language_info": {
   "codemirror_mode": {
    "name": "ipython",
    "version": 3
   },
   "file_extension": ".py",
   "mimetype": "text/x-python",
   "name": "python",
   "nbconvert_exporter": "python",
   "pygments_lexer": "ipython3",
   "version": "3.8.3"
  }
 },
 "nbformat": 4,
 "nbformat_minor": 4
}
