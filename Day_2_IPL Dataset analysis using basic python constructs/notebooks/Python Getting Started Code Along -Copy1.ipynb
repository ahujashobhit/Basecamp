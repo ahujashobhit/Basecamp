{
 "cells": [
  {
   "cell_type": "markdown",
   "metadata": {},
   "source": [
    "# IPL Dataset Analysis\n",
    "\n",
    "## Problem Statement\n",
    "We want to know as to what happens during an IPL match which raises several questions in our mind with our limited knowledge about the game called cricket on which it is based. This analysis is done to know as which factors led one of the team to win and how does it matter."
   ]
  },
  {
   "cell_type": "markdown",
   "metadata": {},
   "source": [
    "## About the Dataset :\n",
    "The Indian Premier League (IPL) is a professional T20 cricket league in India contested during April-May of every year by teams representing Indian cities. It is the most-attended cricket league in the world and ranks sixth among all the sports leagues. It has teams with players from around the world and is very competitive and entertaining with a lot of close matches between teams.\n",
    "\n",
    "The IPL and other cricket related datasets are available at [cricsheet.org](https://cricsheet.org/%c2%a0(data). Feel free to visit the website and explore the data by yourself as exploring new sources of data is one of the interesting activities a data scientist gets to do."
   ]
  },
  {
   "cell_type": "markdown",
   "metadata": {},
   "source": [
    "### Analysing data with basic python operation"
   ]
  },
  {
   "cell_type": "markdown",
   "metadata": {},
   "source": [
    "## Read the data of the format .yaml type"
   ]
  },
  {
   "cell_type": "code",
   "execution_count": 1,
   "metadata": {},
   "outputs": [],
   "source": [
    "import yaml"
   ]
  },
  {
   "cell_type": "code",
   "execution_count": 2,
   "metadata": {},
   "outputs": [],
   "source": [
    "# using with open command to read the file\n",
    "with open('../data/ipl_match.yaml') as f:\n",
    "    data = yaml.load(f, Loader=yaml.FullLoader)"
   ]
  },
  {
   "cell_type": "code",
   "execution_count": 3,
   "metadata": {},
   "outputs": [
    {
     "data": {
      "text/plain": [
       "'/home/sahuja4/Work/Learning/git_repos/Basecamp/Day_2_IPL Dataset analysis using basic python constructs'"
      ]
     },
     "execution_count": 3,
     "metadata": {},
     "output_type": "execute_result"
    }
   ],
   "source": [
    "import os\n",
    "os.path.abspath('../')"
   ]
  },
  {
   "cell_type": "code",
   "execution_count": 4,
   "metadata": {},
   "outputs": [
    {
     "data": {
      "text/plain": [
       "dict"
      ]
     },
     "execution_count": 4,
     "metadata": {},
     "output_type": "execute_result"
    }
   ],
   "source": [
    "data\n",
    "type(data)"
   ]
  },
  {
   "cell_type": "markdown",
   "metadata": {},
   "source": [
    "Now let's find answers to some prilminary questions such as "
   ]
  },
  {
   "cell_type": "markdown",
   "metadata": {},
   "source": [
    "### Can you guess the data type with which your working on ?"
   ]
  },
  {
   "cell_type": "code",
   "execution_count": 5,
   "metadata": {},
   "outputs": [
    {
     "data": {
      "text/plain": [
       "dict"
      ]
     },
     "execution_count": 5,
     "metadata": {},
     "output_type": "execute_result"
    }
   ],
   "source": [
    "type(data)"
   ]
  },
  {
   "cell_type": "markdown",
   "metadata": {},
   "source": [
    "### In which city the match was played and where was it played ?"
   ]
  },
  {
   "cell_type": "code",
   "execution_count": 15,
   "metadata": {},
   "outputs": [
    {
     "name": "stdout",
     "output_type": "stream",
     "text": [
      "City of the match played is Bangalore\n"
     ]
    }
   ],
   "source": [
    "data.keys()\n",
    "print(f\"City of the match played is {data['info']['city']}\")"
   ]
  },
  {
   "cell_type": "code",
   "execution_count": 14,
   "metadata": {},
   "outputs": [
    {
     "name": "stdout",
     "output_type": "stream",
     "text": [
      "Venue of the match played is M Chinnaswamy Stadium\n"
     ]
    }
   ],
   "source": [
    "print(f\"Venue of the match played is {data['info']['venue']}\")"
   ]
  },
  {
   "cell_type": "markdown",
   "metadata": {},
   "source": [
    "### Which are all the teams that played in the tournament ? How many teams participated  in total?"
   ]
  },
  {
   "cell_type": "code",
   "execution_count": 19,
   "metadata": {},
   "outputs": [
    {
     "name": "stdout",
     "output_type": "stream",
     "text": [
      "Kolkata Knight Riders\n"
     ]
    }
   ],
   "source": [
    "data['info']['teams']\n",
    "team1, team2 = data['info']['teams']\n",
    "print(team2)"
   ]
  },
  {
   "cell_type": "code",
   "execution_count": 20,
   "metadata": {},
   "outputs": [
    {
     "name": "stdout",
     "output_type": "stream",
     "text": [
      "Teams participated are : Royal Challengers Bangalore and Kolkata Knight Riders\n",
      "There are total of 2 teams that played in tournament\n"
     ]
    }
   ],
   "source": [
    "print(f'Teams participated are : {team1} and {team2}')\n",
    "print(f\"There are total of {len(data['info']['teams'])} teams that played in tournament\")"
   ]
  },
  {
   "cell_type": "markdown",
   "metadata": {},
   "source": [
    "### Which team won the toss and what was the decision of toss winner ?"
   ]
  },
  {
   "cell_type": "code",
   "execution_count": 22,
   "metadata": {},
   "outputs": [
    {
     "data": {
      "text/plain": [
       "{'decision': 'field', 'winner': 'Royal Challengers Bangalore'}"
      ]
     },
     "execution_count": 22,
     "metadata": {},
     "output_type": "execute_result"
    }
   ],
   "source": [
    "data['info']['toss']"
   ]
  },
  {
   "cell_type": "code",
   "execution_count": 24,
   "metadata": {},
   "outputs": [
    {
     "name": "stdout",
     "output_type": "stream",
     "text": [
      "Royal Challengers Bangalore won the toss and decided to field first.\n"
     ]
    }
   ],
   "source": [
    "print(f\"{data['info']['toss']['winner']} won the toss and decided to {data['info']['toss']['decision']} first.\")"
   ]
  },
  {
   "cell_type": "markdown",
   "metadata": {},
   "source": [
    "### Find the first bowler who played the first ball of the first inning. Also the first batsman who faced first delivery ?"
   ]
  },
  {
   "cell_type": "code",
   "execution_count": 45,
   "metadata": {},
   "outputs": [],
   "source": [
    "bat = data['innings'][0]['1st innings']['deliveries'][0][0.1]['batsman']\n",
    "bowl = data['innings'][0]['1st innings']['deliveries'][0][0.1]['bowler']"
   ]
  },
  {
   "cell_type": "code",
   "execution_count": 46,
   "metadata": {},
   "outputs": [
    {
     "name": "stdout",
     "output_type": "stream",
     "text": [
      "First bowl of of the match was bowled by P Kumar and played by SC Ganguly\n"
     ]
    }
   ],
   "source": [
    "print(f'First bowl of of the match was bowled by {bowl} and played by {bat}')"
   ]
  },
  {
   "cell_type": "markdown",
   "metadata": {},
   "source": [
    "### How many deliveries were delivered in first inning ?"
   ]
  },
  {
   "cell_type": "code",
   "execution_count": 50,
   "metadata": {},
   "outputs": [],
   "source": [
    "dely = len(data['innings'][0]['1st innings']['deliveries'])"
   ]
  },
  {
   "cell_type": "code",
   "execution_count": 51,
   "metadata": {},
   "outputs": [
    {
     "name": "stdout",
     "output_type": "stream",
     "text": [
      "First inning was consisting of 124 deliveries delivered.\n"
     ]
    }
   ],
   "source": [
    "## Does this come out to be more than 120 if yes then why ?\n",
    "print(f'First inning was consisting of {dely} deliveries delivered.')"
   ]
  },
  {
   "cell_type": "markdown",
   "metadata": {},
   "source": [
    "### How many deliveries were delivered in second inning ?"
   ]
  },
  {
   "cell_type": "code",
   "execution_count": 56,
   "metadata": {},
   "outputs": [],
   "source": [
    "dely2 = len(data['innings'][1]['2nd innings']['deliveries'])"
   ]
  },
  {
   "cell_type": "code",
   "execution_count": 57,
   "metadata": {},
   "outputs": [
    {
     "name": "stdout",
     "output_type": "stream",
     "text": [
      "Second inning was consisting of 101 deliveries delivered.\n"
     ]
    }
   ],
   "source": [
    "## Does this come out to be less or greater than 120 then what's your thought process behind it ?\n",
    "print(f'Second inning was consisting of {dely2} deliveries delivered.')"
   ]
  },
  {
   "cell_type": "markdown",
   "metadata": {},
   "source": [
    "### Which team won and how ?\n"
   ]
  },
  {
   "cell_type": "code",
   "execution_count": 70,
   "metadata": {},
   "outputs": [
    {
     "data": {
      "text/plain": [
       "dict_keys(['runs'])"
      ]
     },
     "execution_count": 70,
     "metadata": {},
     "output_type": "execute_result"
    }
   ],
   "source": [
    "data['info']['outcome']\n",
    "data['info']['outcome']['by'].keys()"
   ]
  },
  {
   "cell_type": "code",
   "execution_count": 72,
   "metadata": {},
   "outputs": [
    {
     "name": "stdout",
     "output_type": "stream",
     "text": [
      "Kolkata Knight Riders won the match by 140 runs\n"
     ]
    }
   ],
   "source": [
    "## see if the guess of the students is right did they infer it correctly\n",
    "winner = data['info']['outcome']['winner']\n",
    "by = [i for i in data['info']['outcome']['by'].keys()][0]\n",
    "val = data['info']['outcome']['by'][by]\n",
    "print(f\"{winner} won the match by {val} {by}\")"
   ]
  },
  {
   "cell_type": "markdown",
   "metadata": {},
   "source": [
    "HOMEWORK - Find total extras and extra runs per extra category "
   ]
  },
  {
   "cell_type": "code",
   "execution_count": 133,
   "metadata": {},
   "outputs": [
    {
     "name": "stdout",
     "output_type": "stream",
     "text": [
      "Innings 1 Extras:\n",
      "--------------------------------------------------\n",
      "byes: 4\n",
      "legbyes: 4\n",
      "wides: 9\n",
      "--------------------------------------------------\n",
      "Total: 17\n",
      "\n",
      "\n",
      "Innings 2 Extras:\n",
      "--------------------------------------------------\n",
      "legbyes: 8\n",
      "wides: 11\n",
      "--------------------------------------------------\n",
      "Total: 19\n",
      "\n",
      "\n",
      "Total Extras:\n",
      "--------------------------------------------------\n",
      "byes: 4\n",
      "legbyes: 12\n",
      "wides: 20\n",
      "--------------------------------------------------\n",
      "Total: 36\n"
     ]
    }
   ],
   "source": [
    "deliveries_extras_cat_1 = []\n",
    "deliveries_extras_cat_2 = []\n",
    "deliveries_extras_cat = []\n",
    "total_extras_runs_1 = 0\n",
    "total_extras_runs_2 = 0\n",
    "total_extras_runs = 0\n",
    "\n",
    "# Get Innings 1 Deliveries\n",
    "deliveries_1 = data['innings'][0]['1st innings']['deliveries']\n",
    "# Get Innings 2 Deliveries\n",
    "deliveries_2 = data['innings'][1]['2nd innings']['deliveries']\n",
    "\n",
    "# Get Innings 1 Extras\n",
    "deliveries_1_extras = [d[list(d.keys())[0]]['extras'] for d in deliveries_1 if 'extras' in list(d[list(d.keys())[0]].keys())]\n",
    "# Get Innings 2 Extras\n",
    "deliveries_2_extras = [d[list(d.keys())[0]]['extras'] for d in deliveries_2 if 'extras' in list(d[list(d.keys())[0]].keys())]\n",
    "\n",
    "# Get Innings 1 extras categories into deliveries_extras_cat_1\n",
    "# And sum of extra runs to total_extras_runs_1\n",
    "for ex in deliveries_1_extras:\n",
    "    deliveries_extras_cat_1.extend(list(ex.keys()))\n",
    "    total_extras_runs_1 = total_extras_runs_1 + sum(list(ex.values()))\n",
    "    \n",
    "# Get Innings 2 extras categories into deliveries_extras_cat_2\n",
    "# And sum of extra runs to total_extras_runs_2\n",
    "for ex in deliveries_2_extras:\n",
    "    deliveries_extras_cat_2.extend(list(ex.keys()))\n",
    "    total_extras_runs_2 = total_extras_runs_2 + sum(list(ex.values()))\n",
    "\n",
    "# Create Innings 1 Extras Unique Category Dictionary deliveries_extras_cat_d1 from deliveries_extras_cat_1\n",
    "deliveries_extras_cat_d1 = dict.fromkeys(sorted(deliveries_extras_cat_1))\n",
    "\n",
    "# Create Innings 2 Extras Unique Category Dictionary deliveries_extras_cat_d2 from deliveries_extras_cat_2\n",
    "deliveries_extras_cat_d2 = dict.fromkeys(sorted(deliveries_extras_cat_2))\n",
    "\n",
    "# Merge Innings 1 and 2 extras category to deliveries_extras_cat\n",
    "deliveries_extras_cat.extend(deliveries_extras_cat_1)\n",
    "deliveries_extras_cat.extend(deliveries_extras_cat_2)\n",
    "\n",
    "# Create Combined Unique Category Dictionary from deliveries_extras_cat\n",
    "deliveries_extras_cat_d = dict.fromkeys(sorted(deliveries_extras_cat))\n",
    "\n",
    "# Sum of total extras runs from both innings\n",
    "total_extras_runs = total_extras_runs_1 + total_extras_runs_2\n",
    "\n",
    "# Putting sum of runs agains each category for Innings 1\n",
    "for ex in deliveries_1_extras:\n",
    "    for k in list(ex.keys()):\n",
    "        deliveries_extras_cat_d1[k] =  (0 if deliveries_extras_cat_d1[k] == None else deliveries_extras_cat_d1[k]) + ex[k]\n",
    "        deliveries_extras_cat_d[k] =  (0 if deliveries_extras_cat_d[k] == None else deliveries_extras_cat_d[k]) + ex[k]\n",
    "\n",
    "# Putting sum of runs agains each category for Innings 2\n",
    "for ex in deliveries_2_extras:\n",
    "    for k in list(ex.keys()):\n",
    "        deliveries_extras_cat_d2[k] =  (0 if deliveries_extras_cat_d2[k] == None else deliveries_extras_cat_d2[k]) + ex[k]\n",
    "        deliveries_extras_cat_d[k] =  (0 if deliveries_extras_cat_d[k] == None else deliveries_extras_cat_d[k]) + ex[k]\n",
    "\n",
    "# Print Output\n",
    "print('Innings 1 Extras:')\n",
    "print('-'*50)\n",
    "for k, v in deliveries_extras_cat_d1.items():\n",
    "    print(f'{k}: {v}')\n",
    "print('-'*50)\n",
    "print(f'Total: {total_extras_runs_1}')\n",
    "\n",
    "print('\\n')\n",
    "\n",
    "print('Innings 2 Extras:')\n",
    "print('-'*50)\n",
    "for k, v in deliveries_extras_cat_d2.items():\n",
    "    print(f'{k}: {v}')\n",
    "print('-'*50)\n",
    "print(f'Total: {total_extras_runs_2}')\n",
    "\n",
    "print('\\n')\n",
    "\n",
    "print('Total Extras:')\n",
    "print('-'*50)\n",
    "for k, v in deliveries_extras_cat_d.items():\n",
    "    print(f'{k}: {v}')\n",
    "print('-'*50)\n",
    "print(f'Total: {total_extras_runs}')"
   ]
  },
  {
   "cell_type": "code",
   "execution_count": 140,
   "metadata": {},
   "outputs": [
    {
     "name": "stdout",
     "output_type": "stream",
     "text": [
      "0 {0.1: {'batsman': 'SC Ganguly', 'bowler': 'P Kumar', 'extras': {'legbyes': 1}, 'non_striker': 'BB McCullum', 'runs': {'batsman': 0, 'extras': 1, 'total': 1}}}\n",
      "1 {0.2: {'batsman': 'BB McCullum', 'bowler': 'P Kumar', 'non_striker': 'SC Ganguly', 'runs': {'batsman': 0, 'extras': 0, 'total': 0}}}\n",
      "2 {0.3: {'batsman': 'BB McCullum', 'bowler': 'P Kumar', 'extras': {'wides': 1}, 'non_striker': 'SC Ganguly', 'runs': {'batsman': 0, 'extras': 1, 'total': 1}}}\n",
      "3 {0.4: {'batsman': 'BB McCullum', 'bowler': 'P Kumar', 'non_striker': 'SC Ganguly', 'runs': {'batsman': 0, 'extras': 0, 'total': 0}}}\n",
      "4 {0.5: {'batsman': 'BB McCullum', 'bowler': 'P Kumar', 'non_striker': 'SC Ganguly', 'runs': {'batsman': 0, 'extras': 0, 'total': 0}}}\n",
      "5 {0.6: {'batsman': 'BB McCullum', 'bowler': 'P Kumar', 'non_striker': 'SC Ganguly', 'runs': {'batsman': 0, 'extras': 0, 'total': 0}}}\n",
      "6 {0.7: {'batsman': 'BB McCullum', 'bowler': 'P Kumar', 'extras': {'legbyes': 1}, 'non_striker': 'SC Ganguly', 'runs': {'batsman': 0, 'extras': 1, 'total': 1}}}\n",
      "7 {1.1: {'batsman': 'BB McCullum', 'bowler': 'Z Khan', 'non_striker': 'SC Ganguly', 'runs': {'batsman': 0, 'extras': 0, 'total': 0}}}\n",
      "8 {1.2: {'batsman': 'BB McCullum', 'bowler': 'Z Khan', 'non_striker': 'SC Ganguly', 'runs': {'batsman': 4, 'extras': 0, 'total': 4}}}\n",
      "9 {1.3: {'batsman': 'BB McCullum', 'bowler': 'Z Khan', 'non_striker': 'SC Ganguly', 'runs': {'batsman': 4, 'extras': 0, 'total': 4}}}\n",
      "10 {1.4: {'batsman': 'BB McCullum', 'bowler': 'Z Khan', 'non_striker': 'SC Ganguly', 'runs': {'batsman': 6, 'extras': 0, 'total': 6}}}\n",
      "11 {1.5: {'batsman': 'BB McCullum', 'bowler': 'Z Khan', 'non_striker': 'SC Ganguly', 'runs': {'batsman': 4, 'extras': 0, 'total': 4}}}\n",
      "12 {1.6: {'batsman': 'BB McCullum', 'bowler': 'Z Khan', 'non_striker': 'SC Ganguly', 'runs': {'batsman': 0, 'extras': 0, 'total': 0}}}\n",
      "13 {2.1: {'batsman': 'SC Ganguly', 'bowler': 'P Kumar', 'non_striker': 'BB McCullum', 'runs': {'batsman': 0, 'extras': 0, 'total': 0}}}\n",
      "14 {2.2: {'batsman': 'SC Ganguly', 'bowler': 'P Kumar', 'non_striker': 'BB McCullum', 'runs': {'batsman': 0, 'extras': 0, 'total': 0}}}\n",
      "15 {2.3: {'batsman': 'SC Ganguly', 'bowler': 'P Kumar', 'extras': {'legbyes': 1}, 'non_striker': 'BB McCullum', 'runs': {'batsman': 0, 'extras': 1, 'total': 1}}}\n",
      "16 {2.4: {'batsman': 'BB McCullum', 'bowler': 'P Kumar', 'non_striker': 'SC Ganguly', 'runs': {'batsman': 4, 'extras': 0, 'total': 4}}}\n",
      "17 {2.5: {'batsman': 'BB McCullum', 'bowler': 'P Kumar', 'non_striker': 'SC Ganguly', 'runs': {'batsman': 1, 'extras': 0, 'total': 1}}}\n",
      "18 {2.6: {'batsman': 'SC Ganguly', 'bowler': 'P Kumar', 'non_striker': 'BB McCullum', 'runs': {'batsman': 0, 'extras': 0, 'total': 0}}}\n",
      "19 {3.1: {'batsman': 'BB McCullum', 'bowler': 'AA Noffke', 'extras': {'wides': 5}, 'non_striker': 'SC Ganguly', 'runs': {'batsman': 0, 'extras': 5, 'total': 5}}}\n",
      "20 {3.2: {'batsman': 'BB McCullum', 'bowler': 'AA Noffke', 'non_striker': 'SC Ganguly', 'runs': {'batsman': 6, 'extras': 0, 'total': 6}}}\n",
      "21 {3.3: {'batsman': 'BB McCullum', 'bowler': 'AA Noffke', 'extras': {'legbyes': 1}, 'non_striker': 'SC Ganguly', 'runs': {'batsman': 0, 'extras': 1, 'total': 1}}}\n",
      "22 {3.4: {'batsman': 'SC Ganguly', 'bowler': 'AA Noffke', 'non_striker': 'BB McCullum', 'runs': {'batsman': 4, 'extras': 0, 'total': 4}}}\n",
      "23 {3.5: {'batsman': 'SC Ganguly', 'bowler': 'AA Noffke', 'non_striker': 'BB McCullum', 'runs': {'batsman': 0, 'extras': 0, 'total': 0}}}\n",
      "24 {3.6: {'batsman': 'SC Ganguly', 'bowler': 'AA Noffke', 'non_striker': 'BB McCullum', 'runs': {'batsman': 1, 'extras': 0, 'total': 1}}}\n",
      "25 {3.7: {'batsman': 'BB McCullum', 'bowler': 'AA Noffke', 'non_striker': 'SC Ganguly', 'runs': {'batsman': 6, 'extras': 0, 'total': 6}}}\n",
      "26 {4.1: {'batsman': 'SC Ganguly', 'bowler': 'P Kumar', 'non_striker': 'BB McCullum', 'runs': {'batsman': 4, 'extras': 0, 'total': 4}}}\n",
      "27 {4.2: {'batsman': 'SC Ganguly', 'bowler': 'P Kumar', 'non_striker': 'BB McCullum', 'runs': {'batsman': 1, 'extras': 0, 'total': 1}}}\n",
      "28 {4.3: {'batsman': 'BB McCullum', 'bowler': 'P Kumar', 'non_striker': 'SC Ganguly', 'runs': {'batsman': 4, 'extras': 0, 'total': 4}}}\n",
      "29 {4.4: {'batsman': 'BB McCullum', 'bowler': 'P Kumar', 'non_striker': 'SC Ganguly', 'runs': {'batsman': 0, 'extras': 0, 'total': 0}}}\n",
      "30 {4.5: {'batsman': 'BB McCullum', 'bowler': 'P Kumar', 'non_striker': 'SC Ganguly', 'runs': {'batsman': 1, 'extras': 0, 'total': 1}}}\n",
      "31 {4.6: {'batsman': 'SC Ganguly', 'bowler': 'P Kumar', 'non_striker': 'BB McCullum', 'runs': {'batsman': 0, 'extras': 0, 'total': 0}}}\n",
      "32 {5.1: {'batsman': 'BB McCullum', 'bowler': 'Z Khan', 'non_striker': 'SC Ganguly', 'runs': {'batsman': 1, 'extras': 0, 'total': 1}}}\n",
      "33 {5.2: {'batsman': 'SC Ganguly', 'bowler': 'Z Khan', 'non_striker': 'BB McCullum', 'runs': {'batsman': 0, 'extras': 0, 'total': 0}, 'wicket': {'fielders': ['JH Kallis'], 'kind': 'caught', 'player_out': 'SC Ganguly'}}}\n",
      "34 {5.3: {'batsman': 'RT Ponting', 'bowler': 'Z Khan', 'non_striker': 'BB McCullum', 'runs': {'batsman': 0, 'extras': 0, 'total': 0}}}\n",
      "35 {5.4: {'batsman': 'RT Ponting', 'bowler': 'Z Khan', 'non_striker': 'BB McCullum', 'runs': {'batsman': 0, 'extras': 0, 'total': 0}}}\n",
      "36 {5.5: {'batsman': 'RT Ponting', 'bowler': 'Z Khan', 'non_striker': 'BB McCullum', 'runs': {'batsman': 0, 'extras': 0, 'total': 0}}}\n",
      "37 {5.6: {'batsman': 'RT Ponting', 'bowler': 'Z Khan', 'non_striker': 'BB McCullum', 'runs': {'batsman': 0, 'extras': 0, 'total': 0}}}\n",
      "38 {6.1: {'batsman': 'BB McCullum', 'bowler': 'AA Noffke', 'non_striker': 'RT Ponting', 'runs': {'batsman': 1, 'extras': 0, 'total': 1}}}\n",
      "39 {6.2: {'batsman': 'RT Ponting', 'bowler': 'AA Noffke', 'non_striker': 'BB McCullum', 'runs': {'batsman': 1, 'extras': 0, 'total': 1}}}\n",
      "40 {6.3: {'batsman': 'BB McCullum', 'bowler': 'AA Noffke', 'non_striker': 'RT Ponting', 'runs': {'batsman': 1, 'extras': 0, 'total': 1}}}\n",
      "41 {6.4: {'batsman': 'RT Ponting', 'bowler': 'AA Noffke', 'non_striker': 'BB McCullum', 'runs': {'batsman': 2, 'extras': 0, 'total': 2}}}\n",
      "42 {6.5: {'batsman': 'RT Ponting', 'bowler': 'AA Noffke', 'non_striker': 'BB McCullum', 'runs': {'batsman': 1, 'extras': 0, 'total': 1}}}\n",
      "43 {6.6: {'batsman': 'BB McCullum', 'bowler': 'AA Noffke', 'non_striker': 'RT Ponting', 'runs': {'batsman': 1, 'extras': 0, 'total': 1}}}\n",
      "44 {7.1: {'batsman': 'BB McCullum', 'bowler': 'Z Khan', 'non_striker': 'RT Ponting', 'runs': {'batsman': 0, 'extras': 0, 'total': 0}}}\n",
      "45 {7.2: {'batsman': 'BB McCullum', 'bowler': 'Z Khan', 'non_striker': 'RT Ponting', 'runs': {'batsman': 1, 'extras': 0, 'total': 1}}}\n",
      "46 {7.3: {'batsman': 'RT Ponting', 'bowler': 'Z Khan', 'non_striker': 'BB McCullum', 'runs': {'batsman': 1, 'extras': 0, 'total': 1}}}\n",
      "47 {7.4: {'batsman': 'BB McCullum', 'bowler': 'Z Khan', 'non_striker': 'RT Ponting', 'runs': {'batsman': 1, 'extras': 0, 'total': 1}}}\n",
      "48 {7.5: {'batsman': 'RT Ponting', 'bowler': 'Z Khan', 'non_striker': 'BB McCullum', 'runs': {'batsman': 1, 'extras': 0, 'total': 1}}}\n",
      "49 {7.6: {'batsman': 'BB McCullum', 'bowler': 'Z Khan', 'non_striker': 'RT Ponting', 'runs': {'batsman': 1, 'extras': 0, 'total': 1}}}\n",
      "50 {8.1: {'batsman': 'BB McCullum', 'bowler': 'JH Kallis', 'non_striker': 'RT Ponting', 'runs': {'batsman': 0, 'extras': 0, 'total': 0}}}\n",
      "51 {8.2: {'batsman': 'BB McCullum', 'bowler': 'JH Kallis', 'non_striker': 'RT Ponting', 'runs': {'batsman': 0, 'extras': 0, 'total': 0}}}\n",
      "52 {8.3: {'batsman': 'BB McCullum', 'bowler': 'JH Kallis', 'non_striker': 'RT Ponting', 'runs': {'batsman': 0, 'extras': 0, 'total': 0}}}\n",
      "53 {8.4: {'batsman': 'BB McCullum', 'bowler': 'JH Kallis', 'non_striker': 'RT Ponting', 'runs': {'batsman': 1, 'extras': 0, 'total': 1}}}\n",
      "54 {8.5: {'batsman': 'RT Ponting', 'bowler': 'JH Kallis', 'non_striker': 'BB McCullum', 'runs': {'batsman': 1, 'extras': 0, 'total': 1}}}\n",
      "55 {8.6: {'batsman': 'BB McCullum', 'bowler': 'JH Kallis', 'non_striker': 'RT Ponting', 'runs': {'batsman': 2, 'extras': 0, 'total': 2}}}\n",
      "56 {9.1: {'batsman': 'RT Ponting', 'bowler': 'SB Joshi', 'non_striker': 'BB McCullum', 'runs': {'batsman': 1, 'extras': 0, 'total': 1}}}\n",
      "57 {9.2: {'batsman': 'BB McCullum', 'bowler': 'SB Joshi', 'non_striker': 'RT Ponting', 'runs': {'batsman': 1, 'extras': 0, 'total': 1}}}\n",
      "58 {9.3: {'batsman': 'RT Ponting', 'bowler': 'SB Joshi', 'non_striker': 'BB McCullum', 'runs': {'batsman': 1, 'extras': 0, 'total': 1}}}\n",
      "59 {9.4: {'batsman': 'BB McCullum', 'bowler': 'SB Joshi', 'non_striker': 'RT Ponting', 'runs': {'batsman': 0, 'extras': 0, 'total': 0}}}\n",
      "60 {9.5: {'batsman': 'BB McCullum', 'bowler': 'SB Joshi', 'non_striker': 'RT Ponting', 'runs': {'batsman': 6, 'extras': 0, 'total': 6}}}\n",
      "61 {9.6: {'batsman': 'BB McCullum', 'bowler': 'SB Joshi', 'non_striker': 'RT Ponting', 'runs': {'batsman': 1, 'extras': 0, 'total': 1}}}\n",
      "62 {10.1: {'batsman': 'BB McCullum', 'bowler': 'JH Kallis', 'non_striker': 'RT Ponting', 'runs': {'batsman': 1, 'extras': 0, 'total': 1}}}\n",
      "63 {10.2: {'batsman': 'RT Ponting', 'bowler': 'JH Kallis', 'non_striker': 'BB McCullum', 'runs': {'batsman': 4, 'extras': 0, 'total': 4}}}\n",
      "64 {10.3: {'batsman': 'RT Ponting', 'bowler': 'JH Kallis', 'non_striker': 'BB McCullum', 'runs': {'batsman': 0, 'extras': 0, 'total': 0}}}\n",
      "65 {10.4: {'batsman': 'RT Ponting', 'bowler': 'JH Kallis', 'non_striker': 'BB McCullum', 'runs': {'batsman': 6, 'extras': 0, 'total': 6}}}\n",
      "66 {10.5: {'batsman': 'RT Ponting', 'bowler': 'JH Kallis', 'non_striker': 'BB McCullum', 'runs': {'batsman': 0, 'extras': 0, 'total': 0}}}\n",
      "67 {10.6: {'batsman': 'RT Ponting', 'bowler': 'JH Kallis', 'extras': {'byes': 4}, 'non_striker': 'BB McCullum', 'runs': {'batsman': 0, 'extras': 4, 'total': 4}}}\n",
      "68 {11.1: {'batsman': 'BB McCullum', 'bowler': 'SB Joshi', 'non_striker': 'RT Ponting', 'runs': {'batsman': 0, 'extras': 0, 'total': 0}}}\n",
      "69 {11.2: {'batsman': 'BB McCullum', 'bowler': 'SB Joshi', 'non_striker': 'RT Ponting', 'runs': {'batsman': 6, 'extras': 0, 'total': 6}}}\n",
      "70 {11.3: {'batsman': 'BB McCullum', 'bowler': 'SB Joshi', 'non_striker': 'RT Ponting', 'runs': {'batsman': 2, 'extras': 0, 'total': 2}}}\n",
      "71 {11.4: {'batsman': 'BB McCullum', 'bowler': 'SB Joshi', 'non_striker': 'RT Ponting', 'runs': {'batsman': 1, 'extras': 0, 'total': 1}}}\n",
      "72 {11.5: {'batsman': 'RT Ponting', 'bowler': 'SB Joshi', 'non_striker': 'BB McCullum', 'runs': {'batsman': 0, 'extras': 0, 'total': 0}}}\n",
      "73 {11.6: {'batsman': 'RT Ponting', 'bowler': 'SB Joshi', 'non_striker': 'BB McCullum', 'runs': {'batsman': 1, 'extras': 0, 'total': 1}}}\n",
      "74 {12.1: {'batsman': 'RT Ponting', 'bowler': 'JH Kallis', 'non_striker': 'BB McCullum', 'runs': {'batsman': 0, 'extras': 0, 'total': 0}, 'wicket': {'fielders': ['P Kumar'], 'kind': 'caught', 'player_out': 'RT Ponting'}}}\n",
      "75 {12.2: {'batsman': 'BB McCullum', 'bowler': 'JH Kallis', 'non_striker': 'DJ Hussey', 'runs': {'batsman': 4, 'extras': 0, 'total': 4}}}\n",
      "76 {12.3: {'batsman': 'BB McCullum', 'bowler': 'JH Kallis', 'non_striker': 'DJ Hussey', 'runs': {'batsman': 0, 'extras': 0, 'total': 0}}}\n",
      "77 {12.4: {'batsman': 'BB McCullum', 'bowler': 'JH Kallis', 'non_striker': 'DJ Hussey', 'runs': {'batsman': 2, 'extras': 0, 'total': 2}}}\n",
      "78 {12.5: {'batsman': 'BB McCullum', 'bowler': 'JH Kallis', 'extras': {'wides': 1}, 'non_striker': 'DJ Hussey', 'runs': {'batsman': 0, 'extras': 1, 'total': 1}}}\n",
      "79 {12.6: {'batsman': 'BB McCullum', 'bowler': 'JH Kallis', 'non_striker': 'DJ Hussey', 'runs': {'batsman': 4, 'extras': 0, 'total': 4}}}\n",
      "80 {12.7: {'batsman': 'BB McCullum', 'bowler': 'JH Kallis', 'non_striker': 'DJ Hussey', 'runs': {'batsman': 1, 'extras': 0, 'total': 1}}}\n",
      "81 {13.1: {'batsman': 'BB McCullum', 'bowler': 'SB Joshi', 'non_striker': 'DJ Hussey', 'runs': {'batsman': 1, 'extras': 0, 'total': 1}}}\n",
      "82 {13.2: {'batsman': 'DJ Hussey', 'bowler': 'SB Joshi', 'non_striker': 'BB McCullum', 'runs': {'batsman': 0, 'extras': 0, 'total': 0}}}\n",
      "83 {13.3: {'batsman': 'DJ Hussey', 'bowler': 'SB Joshi', 'non_striker': 'BB McCullum', 'runs': {'batsman': 1, 'extras': 0, 'total': 1}}}\n",
      "84 {13.4: {'batsman': 'BB McCullum', 'bowler': 'SB Joshi', 'non_striker': 'DJ Hussey', 'runs': {'batsman': 1, 'extras': 0, 'total': 1}}}\n",
      "85 {13.5: {'batsman': 'DJ Hussey', 'bowler': 'SB Joshi', 'non_striker': 'BB McCullum', 'runs': {'batsman': 1, 'extras': 0, 'total': 1}}}\n",
      "86 {13.6: {'batsman': 'BB McCullum', 'bowler': 'SB Joshi', 'non_striker': 'DJ Hussey', 'runs': {'batsman': 2, 'extras': 0, 'total': 2}}}\n",
      "87 {14.1: {'batsman': 'DJ Hussey', 'bowler': 'CL White', 'non_striker': 'BB McCullum', 'runs': {'batsman': 4, 'extras': 0, 'total': 4}}}\n",
      "88 {14.2: {'batsman': 'DJ Hussey', 'bowler': 'CL White', 'non_striker': 'BB McCullum', 'runs': {'batsman': 1, 'extras': 0, 'total': 1}}}\n",
      "89 {14.3: {'batsman': 'BB McCullum', 'bowler': 'CL White', 'non_striker': 'DJ Hussey', 'runs': {'batsman': 6, 'extras': 0, 'total': 6}}}\n",
      "90 {14.4: {'batsman': 'BB McCullum', 'bowler': 'CL White', 'non_striker': 'DJ Hussey', 'runs': {'batsman': 4, 'extras': 0, 'total': 4}}}\n",
      "91 {14.5: {'batsman': 'BB McCullum', 'bowler': 'CL White', 'extras': {'wides': 2}, 'non_striker': 'DJ Hussey', 'runs': {'batsman': 0, 'extras': 2, 'total': 2}}}\n",
      "92 {14.6: {'batsman': 'DJ Hussey', 'bowler': 'CL White', 'non_striker': 'BB McCullum', 'runs': {'batsman': 1, 'extras': 0, 'total': 1}}}\n",
      "93 {14.7: {'batsman': 'BB McCullum', 'bowler': 'CL White', 'non_striker': 'DJ Hussey', 'runs': {'batsman': 6, 'extras': 0, 'total': 6}}}\n",
      "94 {15.1: {'batsman': 'DJ Hussey', 'bowler': 'AA Noffke', 'non_striker': 'BB McCullum', 'runs': {'batsman': 0, 'extras': 0, 'total': 0}}}\n",
      "95 {15.2: {'batsman': 'DJ Hussey', 'bowler': 'AA Noffke', 'non_striker': 'BB McCullum', 'runs': {'batsman': 1, 'extras': 0, 'total': 1}}}\n",
      "96 {15.3: {'batsman': 'BB McCullum', 'bowler': 'AA Noffke', 'non_striker': 'DJ Hussey', 'runs': {'batsman': 2, 'extras': 0, 'total': 2}}}\n",
      "97 {15.4: {'batsman': 'BB McCullum', 'bowler': 'AA Noffke', 'non_striker': 'DJ Hussey', 'runs': {'batsman': 0, 'extras': 0, 'total': 0}}}\n",
      "98 {15.5: {'batsman': 'BB McCullum', 'bowler': 'AA Noffke', 'non_striker': 'DJ Hussey', 'runs': {'batsman': 1, 'extras': 0, 'total': 1}}}\n",
      "99 {15.6: {'batsman': 'DJ Hussey', 'bowler': 'AA Noffke', 'non_striker': 'BB McCullum', 'runs': {'batsman': 0, 'extras': 0, 'total': 0}}}\n",
      "100 {16.1: {'batsman': 'BB McCullum', 'bowler': 'Z Khan', 'non_striker': 'DJ Hussey', 'runs': {'batsman': 1, 'extras': 0, 'total': 1}}}\n",
      "101 {16.2: {'batsman': 'DJ Hussey', 'bowler': 'Z Khan', 'non_striker': 'BB McCullum', 'runs': {'batsman': 2, 'extras': 0, 'total': 2}}}\n",
      "102 {16.3: {'batsman': 'DJ Hussey', 'bowler': 'Z Khan', 'non_striker': 'BB McCullum', 'runs': {'batsman': 1, 'extras': 0, 'total': 1}}}\n",
      "103 {16.4: {'batsman': 'BB McCullum', 'bowler': 'Z Khan', 'non_striker': 'DJ Hussey', 'runs': {'batsman': 6, 'extras': 0, 'total': 6}}}\n",
      "104 {16.5: {'batsman': 'BB McCullum', 'bowler': 'Z Khan', 'non_striker': 'DJ Hussey', 'runs': {'batsman': 2, 'extras': 0, 'total': 2}}}\n",
      "105 {16.6: {'batsman': 'BB McCullum', 'bowler': 'Z Khan', 'non_striker': 'DJ Hussey', 'runs': {'batsman': 2, 'extras': 0, 'total': 2}}}\n",
      "106 {17.1: {'batsman': 'DJ Hussey', 'bowler': 'AA Noffke', 'non_striker': 'BB McCullum', 'runs': {'batsman': 0, 'extras': 0, 'total': 0}, 'wicket': {'fielders': ['CL White'], 'kind': 'caught', 'player_out': 'DJ Hussey'}}}\n",
      "107 {17.2: {'batsman': 'BB McCullum', 'bowler': 'AA Noffke', 'non_striker': 'Mohammad Hafeez', 'runs': {'batsman': 1, 'extras': 0, 'total': 1}}}\n",
      "108 {17.3: {'batsman': 'Mohammad Hafeez', 'bowler': 'AA Noffke', 'non_striker': 'BB McCullum', 'runs': {'batsman': 0, 'extras': 0, 'total': 0}}}\n",
      "109 {17.4: {'batsman': 'Mohammad Hafeez', 'bowler': 'AA Noffke', 'non_striker': 'BB McCullum', 'runs': {'batsman': 1, 'extras': 0, 'total': 1}}}\n",
      "110 {17.5: {'batsman': 'BB McCullum', 'bowler': 'AA Noffke', 'non_striker': 'Mohammad Hafeez', 'runs': {'batsman': 4, 'extras': 0, 'total': 4}}}\n",
      "111 {17.6: {'batsman': 'BB McCullum', 'bowler': 'AA Noffke', 'non_striker': 'Mohammad Hafeez', 'runs': {'batsman': 1, 'extras': 0, 'total': 1}}}\n",
      "112 {18.1: {'batsman': 'BB McCullum', 'bowler': 'JH Kallis', 'non_striker': 'Mohammad Hafeez', 'runs': {'batsman': 6, 'extras': 0, 'total': 6}}}\n",
      "113 {18.2: {'batsman': 'BB McCullum', 'bowler': 'JH Kallis', 'non_striker': 'Mohammad Hafeez', 'runs': {'batsman': 0, 'extras': 0, 'total': 0}}}\n",
      "114 {18.3: {'batsman': 'BB McCullum', 'bowler': 'JH Kallis', 'non_striker': 'Mohammad Hafeez', 'runs': {'batsman': 6, 'extras': 0, 'total': 6}}}\n",
      "115 {18.4: {'batsman': 'BB McCullum', 'bowler': 'JH Kallis', 'non_striker': 'Mohammad Hafeez', 'runs': {'batsman': 4, 'extras': 0, 'total': 4}}}\n",
      "116 {18.5: {'batsman': 'BB McCullum', 'bowler': 'JH Kallis', 'non_striker': 'Mohammad Hafeez', 'runs': {'batsman': 1, 'extras': 0, 'total': 1}}}\n",
      "117 {18.6: {'batsman': 'Mohammad Hafeez', 'bowler': 'JH Kallis', 'non_striker': 'BB McCullum', 'runs': {'batsman': 4, 'extras': 0, 'total': 4}}}\n",
      "118 {19.1: {'batsman': 'BB McCullum', 'bowler': 'P Kumar', 'non_striker': 'Mohammad Hafeez', 'runs': {'batsman': 6, 'extras': 0, 'total': 6}}}\n",
      "119 {19.2: {'batsman': 'BB McCullum', 'bowler': 'P Kumar', 'non_striker': 'Mohammad Hafeez', 'runs': {'batsman': 6, 'extras': 0, 'total': 6}}}\n",
      "120 {19.3: {'batsman': 'BB McCullum', 'bowler': 'P Kumar', 'non_striker': 'Mohammad Hafeez', 'runs': {'batsman': 2, 'extras': 0, 'total': 2}}}\n",
      "121 {19.4: {'batsman': 'BB McCullum', 'bowler': 'P Kumar', 'non_striker': 'Mohammad Hafeez', 'runs': {'batsman': 0, 'extras': 0, 'total': 0}}}\n",
      "122 {19.5: {'batsman': 'BB McCullum', 'bowler': 'P Kumar', 'non_striker': 'Mohammad Hafeez', 'runs': {'batsman': 2, 'extras': 0, 'total': 2}}}\n",
      "123 {19.6: {'batsman': 'BB McCullum', 'bowler': 'P Kumar', 'non_striker': 'Mohammad Hafeez', 'runs': {'batsman': 6, 'extras': 0, 'total': 6}}}\n"
     ]
    }
   ],
   "source": [
    "for idx, delivery in enumeratemerate(data['innings'][0]['1st innings']['deliveries']):\n",
    "    print(idx, delivery)"
   ]
  },
  {
   "cell_type": "code",
   "execution_count": null,
   "metadata": {},
   "outputs": [],
   "source": []
  }
 ],
 "metadata": {
  "kernelspec": {
   "display_name": "Python 3",
   "language": "python",
   "name": "python3"
  },
  "language_info": {
   "codemirror_mode": {
    "name": "ipython",
    "version": 3
   },
   "file_extension": ".py",
   "mimetype": "text/x-python",
   "name": "python",
   "nbconvert_exporter": "python",
   "pygments_lexer": "ipython3",
   "version": "3.8.3"
  }
 },
 "nbformat": 4,
 "nbformat_minor": 2
}
