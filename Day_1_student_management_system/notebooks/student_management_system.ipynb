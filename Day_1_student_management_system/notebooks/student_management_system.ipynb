{
 "cells": [
  {
   "cell_type": "markdown",
   "metadata": {},
   "source": [
    "## Problem Statement\n",
    "\n",
    "You have been hired by the University of Data Science to manage their students' records.  Your job is to create the student management system for the university. Let's try to build the system using basic Python operations.\n",
    "\n",
    "\n",
    "## Why solve this project?\n",
    "\n",
    "After completing this project, you will get to know how to solve basic Python problems. In this project, you will be applying the following concepts:\n",
    "\n",
    "* Mathematical operations\n",
    "* List operations\n",
    "* Dictionary operations \n",
    "* String indexing and formatting"
   ]
  },
  {
   "cell_type": "markdown",
   "metadata": {},
   "source": [
    "### Task 1\n",
    "\n",
    "**Let's create a new register by combining data from two classes while making some modifications to the register.\n",
    "Instructions:**\n",
    "\n",
    "   * Create a 'class_1' list and pass the elements 'Geoffrey Hinton','Andrew Ng','Sebastian Raschka','Yoshua Bengio'.\n",
    "\n",
    "   * Create a 'class_2' list and pass the elements 'Hilary Mason','Carla Gentry','Corinna Cortes'.\n",
    "\n",
    "   * Concatenate the 'class_1' and 'class_2' list. Store the values in a'new_class' variable.\n",
    "\n",
    "   * Print the 'new_class' variable to see the new list.\n",
    "\n",
    "You can now see the students list.\n"
   ]
  },
  {
   "cell_type": "code",
   "execution_count": 3,
   "metadata": {},
   "outputs": [
    {
     "name": "stdout",
     "output_type": "stream",
     "text": [
      "['Geoffrey Hinton', 'Andrew Ng', 'Sebastian Raschka', 'Yoshua Bengio', 'Hilary Mason', 'Carla Gentry', 'Corinna Cortes']\n",
      "['Geoffrey Hinton', 'Andrew Ng', 'Sebastian Raschka', 'Yoshua Bengio', 'Hilary Mason', 'Carla Gentry', 'Corinna Cortes']\n"
     ]
    }
   ],
   "source": [
    "class_1 = ['Geoffrey Hinton','Andrew Ng','Sebastian Raschka','Yoshua Bengio']\n",
    "class_2 = ['Hilary Mason','Carla Gentry','Corinna Cortes']\n",
    "new_class = class_1 + class_2\n",
    "new_class2 = class_1\n",
    "new_class2.extend(class_2)\n",
    "print(new_class)\n",
    "print(new_class2)"
   ]
  },
  {
   "cell_type": "code",
   "execution_count": 16,
   "metadata": {},
   "outputs": [
    {
     "data": {
      "text/plain": [
       "[0, 1, 8, 9]"
      ]
     },
     "execution_count": 16,
     "metadata": {},
     "output_type": "execute_result"
    }
   ],
   "source": [
    "s = 'shobhit'\n",
    "ls = [0,1,2,3,4,5,6,7,8,9]\n",
    "ls[0:2] + ls[8:10]"
   ]
  },
  {
   "cell_type": "code",
   "execution_count": 3,
   "metadata": {},
   "outputs": [
    {
     "data": {
      "text/plain": [
       "'o'"
      ]
     },
     "execution_count": 3,
     "metadata": {},
     "output_type": "execute_result"
    }
   ],
   "source": [
    "s[2]"
   ]
  },
  {
   "cell_type": "markdown",
   "metadata": {},
   "source": [
    "### Task 2\n",
    "\n",
    "Oops! Looks like we might have missed a student whose name is Peter Warden. Let's add him in the new register.\n",
    "\n",
    "   * Add new element 'Peter Warden' in the 'new_class' list.\n",
    "\n",
    "   * Print 'new_class' to see the updated list.\n"
   ]
  },
  {
   "cell_type": "code",
   "execution_count": 4,
   "metadata": {},
   "outputs": [
    {
     "name": "stdout",
     "output_type": "stream",
     "text": [
      "['Geoffrey Hinton', 'Andrew Ng', 'Sebastian Raschka', 'Yoshua Bengio', 'Hilary Mason', 'Carla Gentry', 'Corinna Cortes', 'Peter Warden']\n"
     ]
    }
   ],
   "source": [
    "new_class.append('Peter Warden')\n",
    "print(new_class)"
   ]
  },
  {
   "cell_type": "markdown",
   "metadata": {},
   "source": [
    "### Task 3\n",
    "\n",
    "It seems like there could also be a wrong entry in the list whose name is Carla Gentry. Let's remove her from the register.\n",
    "\n",
    "   * Remove the 'Carla Gentry'element from the 'new_class' list.\n",
    "\n",
    "   * Print 'new_class' to see the updated list.\n"
   ]
  },
  {
   "cell_type": "code",
   "execution_count": 7,
   "metadata": {
    "scrolled": true
   },
   "outputs": [
    {
     "name": "stdout",
     "output_type": "stream",
     "text": [
      "['Geoffrey Hinton', 'Andrew Ng', 'Sebastian Raschka', 'Yoshua Bengio', 'Hilary Mason', 'Corinna Cortes', 'Peter Warden']\n"
     ]
    }
   ],
   "source": [
    "new_class.remove('Carla Gentry')\n",
    "print(new_class)"
   ]
  },
  {
   "cell_type": "markdown",
   "metadata": {},
   "source": [
    "### Task 4\n",
    "\n",
    "**Let's create a dictionary for `Geoffrey Hinton` in each subject to generate his progress report.** \n",
    "\n",
    "\n",
    "\n",
    "#### Instructions\n",
    "\n",
    "* Create a dictionary named `'courses'` using the keys and values given below\n",
    "\n",
    "\n",
    "|course|marks|\n",
    "|-----|-----|\n",
    "|Math|65|\n",
    "|English|70|\n",
    "|History|80|\n",
    "|French|70|\n",
    "|Science|60|\n",
    "\n",
    "\n",
    "\n",
    "\n",
    "\n",
    "* See the marks obtained in each subject.\n",
    " \n",
    "* Add all the marks scored out of 100 and store it in a variable named `'total'`.\n",
    "\n",
    "\n",
    "* Print `'total'`.\n",
    "\n",
    "\n",
    "* Calculate the `'percentage'` scored by `'Geoffrey Hinton'` where addition of all the subjects is `500`.\n",
    "\n",
    "\n",
    "* Print the `'percentage'`.\n",
    "\n"
   ]
  },
  {
   "cell_type": "code",
   "execution_count": 9,
   "metadata": {},
   "outputs": [
    {
     "name": "stdout",
     "output_type": "stream",
     "text": [
      "{'Math': 65, 'English': 70, 'History': 80, 'French': 70, 'Science': 60}\n",
      "dict_keys(['Math', 'English', 'History', 'French', 'Science'])\n",
      "dict_values([65, 70, 80, 70, 60])\n"
     ]
    }
   ],
   "source": [
    "courses = {\n",
    "    'Math': 65,\n",
    "    'English': 70,\n",
    "    'History': 80,\n",
    "    'French': 70,\n",
    "    'Science': 60\n",
    "}\n",
    "print(courses)\n",
    "print(courses.keys())\n",
    "print(courses.values())"
   ]
  },
  {
   "cell_type": "code",
   "execution_count": 26,
   "metadata": {},
   "outputs": [
    {
     "name": "stdout",
     "output_type": "stream",
     "text": [
      "345\n",
      "69.0\n",
      "[65, 70, 80, 70, 60]\n"
     ]
    }
   ],
   "source": [
    "total = sum(courses.values())\n",
    "print(total)\n",
    "percentage = total/500*100\n",
    "print(percentage)\n",
    "\n",
    "test = [i for i in courses.values()]\n",
    "print(test)"
   ]
  },
  {
   "cell_type": "markdown",
   "metadata": {},
   "source": [
    "### Task 5\n",
    "\n",
    "**For the student who got the highest marks in this subject, the school has decided to award a scholarship.\n",
    "Let's check who performed best in mathematics from all the students who appeared for the test.**\n",
    "\n",
    "#### Instructions\n",
    "\n",
    "* Create a dictionary named `'mathematics'` using the keys and values given below.\n",
    "\n",
    "\n",
    "|student|marks|\n",
    "|-----|-----|\n",
    "|Geoffrey Hinton|78|\n",
    "|Andrew Ng|95|\n",
    "|Sebastian Raschka|65|\n",
    "|Yoshua Benjio|50|\n",
    "|Hilary Mason|70|\n",
    "|Corinna Cortes|66|\n",
    "|Peter Warden|75|\n",
    "\n",
    "\n",
    "***\n",
    "\n",
    "    Example of max function:\n",
    "\n",
    "~~~python\n",
    "\n",
    "# calculate the max value\n",
    "\n",
    "max_marks_scored = max(courses,key = courses.get)\n",
    "print (max_marks_scored)\n",
    "\n",
    "~~~\n",
    "\n",
    "**Output**\n",
    "\n",
    "~~~python\n",
    "History\n",
    "~~~\n",
    "    \n",
    "\n",
    "***\n",
    "\n",
    "\n",
    "\n",
    "* Find out the student with the highest marks in Mathematics and store it in a variable `'topper'`."
   ]
  },
  {
   "cell_type": "code",
   "execution_count": 18,
   "metadata": {},
   "outputs": [
    {
     "name": "stdout",
     "output_type": "stream",
     "text": [
      "95\n",
      "History\n",
      "Andrew Ng\n"
     ]
    }
   ],
   "source": [
    "mathematics = {\n",
    "    'Geoffrey Hinton': 78,\n",
    "    'Andrew Ng': 95,\n",
    "    'Sebastian Raschka': 65,\n",
    "    'Yoshua Benjio': 50,\n",
    "    'Hilary Mason': 70,\n",
    "    'Corinna Cortes': 66,\n",
    "    'Peter Warden': 75\n",
    "}\n",
    "m = max(mathematics.values())\n",
    "print(m)\n",
    "max_marks_scored = max(courses, key = courses.get)\n",
    "print(max_marks_scored)\n",
    "topper = max(mathematics, key = mathematics.get)\n",
    "print(topper)"
   ]
  },
  {
   "cell_type": "markdown",
   "metadata": {},
   "source": [
    "### Task 6\n",
    "\n",
    "**From the previous task, we know who is the 'Maths' topper in the class. You now have to print the name of the student on the certificate, but you will have to print his last name and then his first name.** \n",
    "\n",
    "\n",
    "## Instructions\n",
    "\n",
    "* String name `'topper'` with the Math topper's name is given.\n",
    "\n",
    "\n",
    "* Split the `'topper'` using the `\"split()\"` function and store the results in `'first_name'` and `'last_name'`.\n",
    "\n",
    "***\n",
    "\n",
    "    Example of split function:\n",
    "\n",
    "~~~python\n",
    "\n",
    "Quote = \" I love data \"\n",
    "\n",
    "# To split the words of a sentence\n",
    "print('-'*20)\n",
    "\n",
    "# To access one word based on index\n",
    "print(Quote.split()[2])\n",
    "\n",
    "~~~\n",
    "\n",
    "**Output**\n",
    "\n",
    "~~~python\n",
    "['I', 'love', 'data']\n",
    "--------------------\n",
    "data\n",
    "\n",
    "~~~\n",
    "\n",
    "    \n",
    "\n",
    "\n",
    "***\n",
    "\n",
    "\n",
    "*  Display the full name concatenating `+` the strings `'last_name'` and `'first_name'` strings. Don't forget to add a whitespace character between them to avoid displaying them together and store it in a `full_name` variable .\n",
    "\n",
    "\n",
    "* Convert all the elements in the `'full_name'`string to uppercase, and store it to the `'certificate_name'` variable.\n",
    "\n",
    "\n",
    "* Print `'certificate_name'`."
   ]
  },
  {
   "cell_type": "code",
   "execution_count": 19,
   "metadata": {},
   "outputs": [
    {
     "name": "stdout",
     "output_type": "stream",
     "text": [
      "--------------------\n"
     ]
    }
   ],
   "source": [
    "quote = \" I Love data \"\n",
    "print('-'*20)"
   ]
  },
  {
   "cell_type": "code",
   "execution_count": 20,
   "metadata": {},
   "outputs": [
    {
     "name": "stdout",
     "output_type": "stream",
     "text": [
      "['I', 'Love', 'data']\n"
     ]
    }
   ],
   "source": [
    "print(quote.split())"
   ]
  },
  {
   "cell_type": "code",
   "execution_count": 21,
   "metadata": {},
   "outputs": [
    {
     "name": "stdout",
     "output_type": "stream",
     "text": [
      "Ng Andrew\n"
     ]
    }
   ],
   "source": [
    "first_name, last_name = topper.split()\n",
    "full_name = last_name + ' ' + first_name\n",
    "print(full_name)"
   ]
  },
  {
   "cell_type": "code",
   "execution_count": 22,
   "metadata": {},
   "outputs": [
    {
     "name": "stdout",
     "output_type": "stream",
     "text": [
      "NG ANDREW\n"
     ]
    }
   ],
   "source": [
    "certificate_name = full_name.upper()\n",
    "print(certificate_name)"
   ]
  },
  {
   "cell_type": "markdown",
   "metadata": {},
   "source": [
    "**Revsion Questions**\n",
    "1. Add 7 to the list\n",
    "2. Remove number 2 from the list\n",
    "3. Create a new list with 1st and last 2 elements from mylist\n",
    "4. Create a new list of [7, 11, 21] and add all elements to mylist\n",
    "5. Create a new list where each number is double the original number in mylist "
   ]
  },
  {
   "cell_type": "code",
   "execution_count": 3,
   "metadata": {},
   "outputs": [],
   "source": [
    "mylist = [1,2,3,4,5]"
   ]
  },
  {
   "cell_type": "code",
   "execution_count": 4,
   "metadata": {},
   "outputs": [
    {
     "name": "stdout",
     "output_type": "stream",
     "text": [
      "[1, 2, 3, 4, 5]\n",
      "[1, 2, 3, 4, 5, 7]\n",
      "[1, 3, 4, 5, 7]\n",
      "[1, 5, 7]\n",
      "[1, 3, 4, 5, 7, 7, 11, 21]\n",
      "[2, 6, 8, 10, 14, 14, 22, 42]\n"
     ]
    }
   ],
   "source": [
    "print(mylist)\n",
    "mylist.append(7)\n",
    "print(mylist)\n",
    "mylist.remove(2)\n",
    "print(mylist)\n",
    "newlist = mylist[0:1] + mylist[-2:]\n",
    "print(newlist)\n",
    "mylist.extend([7,11,21])\n",
    "print(mylist)\n",
    "new = [i*2 for i in mylist]\n",
    "print(new)"
   ]
  },
  {
   "cell_type": "code",
   "execution_count": 6,
   "metadata": {},
   "outputs": [
    {
     "name": "stdout",
     "output_type": "stream",
     "text": [
      "[2, 6, 8, 10]\n",
      "[4, 12, 16, 20, 7.0, 7.0, 11.0, 21.0]\n"
     ]
    }
   ],
   "source": [
    "print([i for i in new if i<=10])\n",
    "print([i*2 if i<=10 else i/2 for i in new])"
   ]
  },
  {
   "cell_type": "code",
   "execution_count": null,
   "metadata": {},
   "outputs": [],
   "source": []
  }
 ],
 "metadata": {
  "kernelspec": {
   "display_name": "Python (Learning)",
   "language": "python",
   "name": "learning"
  },
  "language_info": {
   "codemirror_mode": {
    "name": "ipython",
    "version": 3
   },
   "file_extension": ".py",
   "mimetype": "text/x-python",
   "name": "python",
   "nbconvert_exporter": "python",
   "pygments_lexer": "ipython3",
   "version": "3.8.5"
  }
 },
 "nbformat": 4,
 "nbformat_minor": 4
}
